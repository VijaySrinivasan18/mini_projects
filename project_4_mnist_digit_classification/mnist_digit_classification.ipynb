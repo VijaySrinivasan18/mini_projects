{
 "cells": [
  {
   "cell_type": "code",
   "execution_count": 1,
   "metadata": {},
   "outputs": [],
   "source": [
    "# import necessary libraries\n",
    "\n",
    "import seaborn as sns\n",
    "import numpy as np\n",
    "import pandas as pd\n",
    "import tensorflow as tf\n",
    "import matplotlib.pyplot as plt\n",
    "from sklearn.model_selection import train_test_split \n",
    "from sklearn.metrics import accuracy_score,precision_score,recall_score,f1_score,classification_report,confusion_matrix\n"
   ]
  },
  {
   "cell_type": "code",
   "execution_count": 2,
   "metadata": {},
   "outputs": [],
   "source": [
    "# Load Mnist dataset\n",
    "\n",
    "(xtrain,ytrain),(xtest,ytest)=tf.keras.datasets.mnist.load_data()"
   ]
  },
  {
   "cell_type": "code",
   "execution_count": 5,
   "metadata": {},
   "outputs": [
    {
     "name": "stdout",
     "output_type": "stream",
     "text": [
      "(60000, 28, 28)\n",
      "(10000, 28, 28)\n",
      "(60000,)\n",
      "(10000,)\n"
     ]
    }
   ],
   "source": [
    "print(xtrain.shape)\n",
    "print(xtest.shape)\n",
    "print(ytrain.shape)\n",
    "print(ytest.shape)\n"
   ]
  },
  {
   "cell_type": "code",
   "execution_count": 51,
   "metadata": {},
   "outputs": [
    {
     "data": {
      "text/plain": [
       "1    0.112367\n",
       "7    0.104417\n",
       "3    0.102183\n",
       "2    0.099300\n",
       "9    0.099150\n",
       "0    0.098717\n",
       "6    0.098633\n",
       "8    0.097517\n",
       "4    0.097367\n",
       "5    0.090350\n",
       "dtype: float64"
      ]
     },
     "execution_count": 51,
     "metadata": {},
     "output_type": "execute_result"
    }
   ],
   "source": [
    "pd.DataFrame(ytrain).value_counts(normalize=True)"
   ]
  },
  {
   "cell_type": "code",
   "execution_count": 57,
   "metadata": {},
   "outputs": [
    {
     "data": {
      "text/plain": [
       "<matplotlib.image.AxesImage at 0x186f84640a0>"
      ]
     },
     "execution_count": 57,
     "metadata": {},
     "output_type": "execute_result"
    },
    {
     "data": {
      "image/png": "[encoded data removed]",
      "text/plain": [
       "<Figure size 640x480 with 1 Axes>"
      ]
     },
     "metadata": {},
     "output_type": "display_data"
    }
   ],
   "source": [
    "#  Viewing one of the image\n",
    "\n",
    "plt.imshow(xtrain[1])"
   ]
  },
  {
   "cell_type": "code",
   "execution_count": 52,
   "metadata": {},
   "outputs": [],
   "source": [
    "# This seems to be a balanced dataset"
   ]
  },
  {
   "cell_type": "code",
   "execution_count": 9,
   "metadata": {},
   "outputs": [],
   "source": [
    "# Reshaping train dataset\n",
    "xtrain_reshape=pd.DataFrame(xtrain.reshape(60000,-1))\n",
    "xtest_reshape=pd.DataFrame(xtest.reshape(10000,-1))"
   ]
  },
  {
   "cell_type": "code",
   "execution_count": 10,
   "metadata": {},
   "outputs": [],
   "source": [
    "# one hot encod the target variables\n",
    "ytrain_coded=pd.get_dummies(ytrain)\n",
    "ytest_coded=pd.get_dummies(ytest)"
   ]
  },
  {
   "cell_type": "code",
   "execution_count": 18,
   "metadata": {},
   "outputs": [],
   "source": [
    "# Model Building\n",
    "\n",
    "model=tf.keras.models.Sequential([\n",
    "tf.keras.layers.Dense(units=64,activation=\"relu\",input_shape=(len(xtrain_reshape.columns),)),\n",
    "tf.keras.layers.Dense(units=32,activation=\"relu\"),\n",
    "tf.keras.layers.Dense(units=16,activation=\"relu\"),\n",
    "tf.keras.layers.Dense(units=8,activation=\"relu\"),\n",
    "tf.keras.layers.Dense(units=len(ytrain_coded.columns),activation=\"softmax\")])"
   ]
  },
  {
   "cell_type": "code",
   "execution_count": 25,
   "metadata": {},
   "outputs": [],
   "source": [
    "model.compile(optimizer=\"adam\",loss=\"categorical_crossentropy\",metrics=[\"accuracy\"])"
   ]
  },
  {
   "cell_type": "code",
   "execution_count": 27,
   "metadata": {},
   "outputs": [
    {
     "name": "stdout",
     "output_type": "stream",
     "text": [
      "Epoch 1/30\n",
      "1875/1875 [==============================] - 6s 3ms/step - loss: 0.0341 - accuracy: 0.9909 - val_loss: 0.1656 - val_accuracy: 0.9707\n",
      "Epoch 2/30\n",
      "1875/1875 [==============================] - 5s 3ms/step - loss: 0.0335 - accuracy: 0.9909 - val_loss: 0.1732 - val_accuracy: 0.9686\n",
      "Epoch 3/30\n",
      "1875/1875 [==============================] - 5s 3ms/step - loss: 0.0348 - accuracy: 0.9896 - val_loss: 0.1610 - val_accuracy: 0.9679\n",
      "Epoch 4/30\n",
      "1875/1875 [==============================] - 5s 3ms/step - loss: 0.0316 - accuracy: 0.9912 - val_loss: 0.1580 - val_accuracy: 0.9693\n",
      "Epoch 5/30\n",
      "1875/1875 [==============================] - 5s 3ms/step - loss: 0.0315 - accuracy: 0.9913 - val_loss: 0.1622 - val_accuracy: 0.9718\n",
      "Epoch 6/30\n",
      "1875/1875 [==============================] - 6s 3ms/step - loss: 0.0335 - accuracy: 0.9912 - val_loss: 0.1610 - val_accuracy: 0.9704\n",
      "Epoch 7/30\n",
      "1875/1875 [==============================] - 5s 3ms/step - loss: 0.0287 - accuracy: 0.9915 - val_loss: 0.1663 - val_accuracy: 0.9737\n",
      "Epoch 8/30\n",
      "1875/1875 [==============================] - 5s 3ms/step - loss: 0.0326 - accuracy: 0.9911 - val_loss: 0.1774 - val_accuracy: 0.9696\n",
      "Epoch 9/30\n",
      "1875/1875 [==============================] - 5s 3ms/step - loss: 0.0269 - accuracy: 0.9923 - val_loss: 0.1837 - val_accuracy: 0.9713\n",
      "Epoch 10/30\n",
      "1875/1875 [==============================] - 5s 3ms/step - loss: 0.0266 - accuracy: 0.9926 - val_loss: 0.1911 - val_accuracy: 0.9730\n",
      "Epoch 11/30\n",
      "1875/1875 [==============================] - 5s 3ms/step - loss: 0.0291 - accuracy: 0.9918 - val_loss: 0.1877 - val_accuracy: 0.9680\n",
      "Epoch 12/30\n",
      "1875/1875 [==============================] - 5s 3ms/step - loss: 0.0267 - accuracy: 0.9927 - val_loss: 0.1731 - val_accuracy: 0.9743\n",
      "Epoch 13/30\n",
      "1875/1875 [==============================] - 5s 3ms/step - loss: 0.0272 - accuracy: 0.9925 - val_loss: 0.1827 - val_accuracy: 0.9723\n",
      "Epoch 14/30\n",
      "1875/1875 [==============================] - 5s 3ms/step - loss: 0.0264 - accuracy: 0.9928 - val_loss: 0.1883 - val_accuracy: 0.9703\n",
      "Epoch 15/30\n",
      "1875/1875 [==============================] - 6s 3ms/step - loss: 0.0250 - accuracy: 0.9932 - val_loss: 0.2335 - val_accuracy: 0.9709\n",
      "Epoch 16/30\n",
      "1875/1875 [==============================] - 5s 3ms/step - loss: 0.0245 - accuracy: 0.9933 - val_loss: 0.2048 - val_accuracy: 0.9695\n",
      "Epoch 17/30\n",
      "1875/1875 [==============================] - 6s 3ms/step - loss: 0.0264 - accuracy: 0.9930 - val_loss: 0.1961 - val_accuracy: 0.9713\n",
      "Epoch 18/30\n",
      "1875/1875 [==============================] - 6s 3ms/step - loss: 0.0253 - accuracy: 0.9932 - val_loss: 0.2151 - val_accuracy: 0.9717\n",
      "Epoch 19/30\n",
      "1875/1875 [==============================] - 5s 3ms/step - loss: 0.0201 - accuracy: 0.9945 - val_loss: 0.2046 - val_accuracy: 0.9716\n",
      "Epoch 20/30\n",
      "1875/1875 [==============================] - 5s 3ms/step - loss: 0.0264 - accuracy: 0.9932 - val_loss: 0.2218 - val_accuracy: 0.9642\n",
      "Epoch 21/30\n",
      "1875/1875 [==============================] - 6s 3ms/step - loss: 0.0199 - accuracy: 0.9946 - val_loss: 0.1965 - val_accuracy: 0.9691\n",
      "Epoch 22/30\n",
      "1875/1875 [==============================] - 5s 3ms/step - loss: 0.0209 - accuracy: 0.9941 - val_loss: 0.2027 - val_accuracy: 0.9708\n",
      "Epoch 23/30\n",
      "1875/1875 [==============================] - 5s 3ms/step - loss: 0.0199 - accuracy: 0.9946 - val_loss: 0.2606 - val_accuracy: 0.9719\n",
      "Epoch 24/30\n",
      "1875/1875 [==============================] - 5s 3ms/step - loss: 0.0208 - accuracy: 0.9947 - val_loss: 0.2528 - val_accuracy: 0.9704\n",
      "Epoch 25/30\n",
      "1875/1875 [==============================] - 5s 3ms/step - loss: 0.0218 - accuracy: 0.9943 - val_loss: 0.2365 - val_accuracy: 0.9720\n",
      "Epoch 26/30\n",
      "1875/1875 [==============================] - 5s 3ms/step - loss: 0.0233 - accuracy: 0.9940 - val_loss: 0.2043 - val_accuracy: 0.9708\n",
      "Epoch 27/30\n",
      "1875/1875 [==============================] - 5s 3ms/step - loss: 0.0205 - accuracy: 0.9945 - val_loss: 0.2247 - val_accuracy: 0.9699\n",
      "Epoch 28/30\n",
      "1875/1875 [==============================] - 5s 3ms/step - loss: 0.0191 - accuracy: 0.9949 - val_loss: 0.2847 - val_accuracy: 0.9672\n",
      "Epoch 29/30\n",
      "1875/1875 [==============================] - 5s 3ms/step - loss: 0.0229 - accuracy: 0.9942 - val_loss: 0.2903 - val_accuracy: 0.9690\n",
      "Epoch 30/30\n",
      "1875/1875 [==============================] - 6s 3ms/step - loss: 0.0190 - accuracy: 0.9950 - val_loss: 0.2555 - val_accuracy: 0.9691\n"
     ]
    }
   ],
   "source": [
    "model_history=model.fit(xtrain_reshape,ytrain_coded,batch_size=32,epochs=30,validation_data=(xtest_reshape,ytest_coded))"
   ]
  },
  {
   "cell_type": "code",
   "execution_count": 32,
   "metadata": {},
   "outputs": [],
   "source": [
    "preds=model.predict(xtest_reshape)"
   ]
  },
  {
   "cell_type": "code",
   "execution_count": 33,
   "metadata": {},
   "outputs": [],
   "source": [
    "preds=np.argmax(preds,axis=1)"
   ]
  },
  {
   "cell_type": "code",
   "execution_count": 45,
   "metadata": {},
   "outputs": [
    {
     "name": "stdout",
     "output_type": "stream",
     "text": [
      "              precision    recall  f1-score   support\n",
      "\n",
      "           0       0.97      0.99      0.98       980\n",
      "           1       0.98      0.99      0.98      1135\n",
      "           2       0.97      0.97      0.97      1032\n",
      "           3       0.96      0.97      0.96      1010\n",
      "           4       0.96      0.98      0.97       982\n",
      "           5       0.98      0.95      0.96       892\n",
      "           6       0.98      0.98      0.98       958\n",
      "           7       0.98      0.96      0.97      1028\n",
      "           8       0.95      0.97      0.96       974\n",
      "           9       0.97      0.93      0.95      1009\n",
      "\n",
      "    accuracy                           0.97     10000\n",
      "   macro avg       0.97      0.97      0.97     10000\n",
      "weighted avg       0.97      0.97      0.97     10000\n",
      "\n"
     ]
    }
   ],
   "source": [
    "#   Classification report\n",
    "\n",
    "print(classification_report(ytest,preds))"
   ]
  },
  {
   "cell_type": "code",
   "execution_count": 47,
   "metadata": {},
   "outputs": [
    {
     "data": {
      "text/plain": [
       "array([[ 971,    1,    0,    0,    0,    1,    3,    1,    3,    0],\n",
       "       [   0, 1121,    1,    1,    3,    0,    1,    1,    7,    0],\n",
       "       [   6,    5,  996,    3,    2,    0,    3,    4,   13,    0],\n",
       "       [   0,    0,   17,  978,    0,    4,    0,    4,    4,    3],\n",
       "       [   1,    0,    3,    0,  967,    0,    7,    1,    1,    2],\n",
       "       [   4,    1,    0,   17,    0,  847,    7,    2,    8,    6],\n",
       "       [   6,    2,    0,    0,    2,    4,  942,    0,    2,    0],\n",
       "       [   2,    4,   11,    5,    7,    2,    0,  984,    2,   11],\n",
       "       [   4,    1,    4,    5,    3,    3,    2,    3,  945,    4],\n",
       "       [   7,    7,    0,   11,   24,    3,    0,    9,    8,  940]],\n",
       "      dtype=int64)"
      ]
     },
     "execution_count": 47,
     "metadata": {},
     "output_type": "execute_result"
    }
   ],
   "source": [
    "confusion_matrix(ytest,preds)"
   ]
  },
  {
   "cell_type": "code",
   "execution_count": 53,
   "metadata": {},
   "outputs": [
    {
     "name": "stdout",
     "output_type": "stream",
     "text": [
      "0.9691\n"
     ]
    }
   ],
   "source": [
    "#  Testing Accuracy\n",
    "\n",
    "print(accuracy_score(ytest,preds))"
   ]
  }
 ],
 "metadata": {
  "kernelspec": {
   "display_name": "dl",
   "language": "python",
   "name": "python3"
  },
  "language_info": {
   "codemirror_mode": {
    "name": "ipython",
    "version": 3
   },
   "file_extension": ".py",
   "mimetype": "text/x-python",
   "name": "python",
   "nbconvert_exporter": "python",
   "pygments_lexer": "ipython3",
   "version": "3.8.13"
  },
  "orig_nbformat": 4,
  "vscode": {
   "interpreter": {
    "hash": "31b4864f7a329bb7df33ee910d06966add06d4194ca7784060c0c775d42f1d3a"
   }
  }
 },
 "nbformat": 4,
 "nbformat_minor": 2
}
