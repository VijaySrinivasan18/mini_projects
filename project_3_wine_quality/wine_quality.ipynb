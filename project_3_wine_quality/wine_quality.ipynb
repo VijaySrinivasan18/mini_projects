{
 "cells": [
  {
   "cell_type": "code",
   "execution_count": null,
   "metadata": {},
   "outputs": [],
   "source": []
  }
 ],
 "metadata": {
  "kernelspec": {
   "display_name": "ml",
   "language": "python",
   "name": "python3"
  },
  "language_info": {
   "name": "python",
   "version": "3.8.13 (default, Mar 28 2022, 06:59:08) [MSC v.1916 64 bit (AMD64)]"
  },
  "orig_nbformat": 4,
  "vscode": {
   "interpreter": {
    "hash": "98666f798c725e0c2a507b3c6426b1172967842504240c1e90ed8ffac4ad23ab"
   }
  }
 },
 "nbformat": 4,
 "nbformat_minor": 2
}
